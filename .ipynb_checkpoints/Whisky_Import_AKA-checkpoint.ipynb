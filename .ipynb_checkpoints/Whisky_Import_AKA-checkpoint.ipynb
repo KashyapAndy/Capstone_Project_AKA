{
 "cells": [
  {
   "cell_type": "code",
   "execution_count": 1,
   "metadata": {},
   "outputs": [
    {
     "name": "stdout",
     "output_type": "stream",
     "text": [
      "CPU times: user 1.7 s, sys: 361 ms, total: 2.07 s\n",
      "Wall time: 2.52 s\n"
     ]
    }
   ],
   "source": [
    "%%time\n",
    "# Importing all the necessary libraries for this project.\n",
    "\n",
    "import pandas as pd\n",
    "import numpy as np\n",
    "import pandas as pd\n",
    "import matplotlib.pyplot as plt\n",
    "import seaborn as sns\n",
    "from pylab import rcParams\n",
    "import pandas as pd\n",
    "from bs4 import BeautifulSoup\n",
    "import requests\n",
    "import json\n",
    "import ast\n"
   ]
  },
  {
   "cell_type": "code",
   "execution_count": 2,
   "metadata": {},
   "outputs": [],
   "source": [
    "# VIEW ALL COLUMNS & ALL TEXT IN EACH CELL\n",
    "\n",
    "pd.set_option('display.max_colwidth', -1)\n",
    "pd.set_option('display.max_columns', None)\n",
    "\n",
    "# Set ipython's max row display\n",
    "pd.set_option('display.max_row', 1000)\n",
    "\n",
    "# Set iPython's max column width to 50\n",
    "pd.set_option('display.max_columns', 50)\n"
   ]
  },
  {
   "cell_type": "code",
   "execution_count": 3,
   "metadata": {},
   "outputs": [
    {
     "data": {
      "text/plain": [
       "['seaborn-dark',\n",
       " 'seaborn-darkgrid',\n",
       " 'seaborn-ticks',\n",
       " 'fivethirtyeight',\n",
       " 'seaborn-whitegrid',\n",
       " 'classic',\n",
       " '_classic_test',\n",
       " 'seaborn-talk',\n",
       " 'seaborn-dark-palette',\n",
       " 'seaborn-bright',\n",
       " 'seaborn-pastel',\n",
       " 'grayscale',\n",
       " 'seaborn-notebook',\n",
       " 'ggplot',\n",
       " 'seaborn-colorblind',\n",
       " 'seaborn-muted',\n",
       " 'seaborn',\n",
       " 'seaborn-paper',\n",
       " 'bmh',\n",
       " 'seaborn-white',\n",
       " 'dark_background',\n",
       " 'seaborn-poster',\n",
       " 'seaborn-deep']"
      ]
     },
     "execution_count": 3,
     "metadata": {},
     "output_type": "execute_result"
    }
   ],
   "source": [
    "import matplotlib.style as style\n",
    "style.available\n"
   ]
  },
  {
   "cell_type": "code",
   "execution_count": 4,
   "metadata": {},
   "outputs": [],
   "source": [
    "style.use('ggplot')\n",
    "style.use('seaborn-poster')"
   ]
  },
  {
   "cell_type": "markdown",
   "metadata": {},
   "source": [
    "### Import the files here. Here is a breakdown of what is inside each file:\n",
    "\n",
    "- Whisky_pd. Preliminary information of bottle & the price\n",
    "- whisky_details. Contains detailed information of the bottle/whisky\n",
    "- final_review. Contains information of the reviews of each whisky bottle\n",
    "- distillery_main. "
   ]
  },
  {
   "cell_type": "code",
   "execution_count": 5,
   "metadata": {},
   "outputs": [],
   "source": [
    "## Import everything again.\n",
    "\n",
    "whisky_pd = pd.read_csv(\"Whisky_Main.csv\", index_col = 0)\n",
    "final_review = pd.read_csv('Final_Review.csv', index_col=0)\n",
    "whisky_details = pd.read_csv('Whisky Details.csv', index_col=0, dtype = 'object')\n",
    "distillery_main = pd.read_csv('Distillery_Info.csv', index_col=0)"
   ]
  },
  {
   "cell_type": "code",
   "execution_count": 6,
   "metadata": {},
   "outputs": [],
   "source": [
    "## Merge details & whisky_pd on whisky_pd URL.\n",
    "\n",
    "whisky_pd = pd.merge(whisky_pd, whisky_details, how = 'left', left_on = 'Link', right_on = 'WhiskyURL')"
   ]
  },
  {
   "cell_type": "code",
   "execution_count": 7,
   "metadata": {},
   "outputs": [],
   "source": [
    "## Merge Distillery with whisky_pd on DistilleryName\n",
    "\n",
    "whisky_pd = pd.merge(whisky_pd, distillery_main, how = 'left', on = 'Distillery')"
   ]
  },
  {
   "cell_type": "code",
   "execution_count": 8,
   "metadata": {},
   "outputs": [],
   "source": [
    "whisky_pd.drop_duplicates(inplace = True)"
   ]
  },
  {
   "cell_type": "markdown",
   "metadata": {
    "collapsed": true
   },
   "source": [
    "## Let us start with some EDA on whisky_pd and fixing the data types"
   ]
  },
  {
   "cell_type": "code",
   "execution_count": 9,
   "metadata": {},
   "outputs": [],
   "source": [
    "## fix the volume (remove cl), remove pound sign/convert to $ and fix ABV by removing %\n",
    "\n",
    "whisky_pd['Volume'] = whisky_pd['Volume'].apply(lambda x: float(x.replace('cl', ''))*10)\n",
    "whisky_pd['Price/Bottle'] = whisky_pd['Price/Bottle'].apply(lambda x: float(x.replace('£', '').replace(',', ''))*1.14)\n",
    "whisky_pd['ABV'] = whisky_pd['ABV'].apply(lambda x: float(x.replace('%', '')))"
   ]
  },
  {
   "cell_type": "code",
   "execution_count": 10,
   "metadata": {},
   "outputs": [],
   "source": [
    "## Rename the columns\n",
    "\n",
    "whisky_pd = whisky_pd.rename(columns={'Volume' : 'Volume_ml', 'Price/Bottle' : 'Price_Bottle$', 'ABV': 'ABV'})"
   ]
  },
  {
   "cell_type": "code",
   "execution_count": 11,
   "metadata": {},
   "outputs": [],
   "source": [
    "## Normalize the prices here to 1L\n",
    "\n",
    "whisky_pd['Price_L'] = round((whisky_pd['Price_Bottle$']*1000/whisky_pd['Volume_ml']),2)"
   ]
  },
  {
   "cell_type": "code",
   "execution_count": 12,
   "metadata": {},
   "outputs": [],
   "source": [
    "## Fix the Distillery names. Removing preceeding & trailing white spaces\n",
    "\n",
    "whisky_pd['Distillery'] = whisky_pd['Distillery'].str.rstrip().str.lstrip()\n",
    "whisky_pd['Whisky'] = whisky_pd['Whisky'].str.rstrip().str.lstrip()"
   ]
  },
  {
   "cell_type": "code",
   "execution_count": 13,
   "metadata": {},
   "outputs": [],
   "source": [
    "## Removing miniatures, kegs & only >40ABV whisky. we will focus on whisky that are >500ml and under 1L.\n",
    "\n",
    "whisky_pd = whisky_pd[(whisky_pd['Volume_ml'] > 500) & (whisky_pd['ABV'] >= 40.0) & (whisky_pd['Volume_ml']<1000)].reset_index(drop = True)"
   ]
  },
  {
   "cell_type": "code",
   "execution_count": 14,
   "metadata": {},
   "outputs": [],
   "source": [
    "## Creating Categories of Whisky. Remember, these prices are per L & typically bottles are ~700ml\n",
    "\n",
    "def categorizer(price):\n",
    "    if price < 71.5:\n",
    "        return 0\n",
    "    elif (price >=71.5) & (price < 142.85):\n",
    "        return 1\n",
    "    elif (price >=142.85) & (price < 1428.5):\n",
    "        return 2\n",
    "    else:\n",
    "        return 3"
   ]
  },
  {
   "cell_type": "code",
   "execution_count": 15,
   "metadata": {},
   "outputs": [],
   "source": [
    "whisky_pd.dropna(axis=0, how='all', subset=['Price_L'], inplace=True)"
   ]
  },
  {
   "cell_type": "markdown",
   "metadata": {},
   "source": [
    "### CREATING WHISKY CLASSES. THE PRICES ARE BASED OFF DISCUS (Distilled Spirit Council of USA). Their definition is not perfect and prices are based off supplier/bulk rates. So we are using the same approximation here.\n",
    "\n",
    "#### Value : Price < $50/bottle$ - 0\n",
    "#### Premium : Price < $100/bottle$ - 1\n",
    "#### High End : Price < $1000/bottle$ - 2\n",
    "#### Super Premium : Price > $1000/bottle$ - 3"
   ]
  },
  {
   "cell_type": "code",
   "execution_count": 16,
   "metadata": {},
   "outputs": [],
   "source": [
    "## Creating class for whisky. \n",
    "\n",
    "whisky_pd['Class'] = whisky_pd['Price_L'].apply(categorizer)"
   ]
  },
  {
   "cell_type": "code",
   "execution_count": 17,
   "metadata": {},
   "outputs": [],
   "source": [
    "## Drop the 0 column. It is full of null values. Don't need it.\n",
    "\n",
    "whisky_pd.drop('0', inplace = True, axis = 1)"
   ]
  },
  {
   "cell_type": "code",
   "execution_count": 18,
   "metadata": {},
   "outputs": [],
   "source": [
    "## Creating Age statements on the sample.\n",
    "\n",
    "new_column = []\n",
    "\n",
    "for index, values in whisky_pd[['Whisky', 'WhiskyURL', 'Age']].iterrows():\n",
    "    try: \n",
    "        new_column.append(float(values[2].split()[0]))\n",
    "    except:\n",
    "        try:\n",
    "            yearsum = min([float(s) for s in values[0].split() if s.isdigit()])\n",
    "            if (yearsum < 100 & yearsum>3):\n",
    "                new_column.append(yearsum)\n",
    "            else:\n",
    "                new_column.append(np.NaN)\n",
    "        except:\n",
    "            try:\n",
    "                yearsum = min([float(s) for s in values[0].split('-') if s.isdigit()])\n",
    "                if (yearsum < 100 & yearsum>3):\n",
    "                    new_column.append(yearsum)\n",
    "                else:\n",
    "                    new_column.append(np.NaN)\n",
    "            except:\n",
    "                new_column.append(np.NaN)\n",
    "\n",
    "whisky_pd['WhiskyAge'] = new_column"
   ]
  },
  {
   "cell_type": "code",
   "execution_count": 19,
   "metadata": {},
   "outputs": [],
   "source": [
    "whisky_pd['AgeType'] = np.where(whisky_pd['WhiskyAge'].isnull(), 'NAS', 'YAS')"
   ]
  },
  {
   "cell_type": "code",
   "execution_count": 20,
   "metadata": {},
   "outputs": [],
   "source": [
    "### Fix the Age/WhiskyAge column and drop one here\n",
    "\n",
    "whisky_pd['WhiskyAge'] = whisky_pd['WhiskyAge'].astype(float, inplace = True)"
   ]
  },
  {
   "cell_type": "code",
   "execution_count": 21,
   "metadata": {},
   "outputs": [],
   "source": [
    "## DETAILS IS DICTIONARY THAT HAS BEEN OPENED INTO COLUMNS, LINK = PAGE LINK, BOTTLENAME SAME AS WHISKYNAME\n",
    "\n",
    "whisky_pd.drop(['Details', 'Link', 'BottleName'], axis = 1, inplace = True)"
   ]
  },
  {
   "cell_type": "code",
   "execution_count": 22,
   "metadata": {},
   "outputs": [],
   "source": [
    "### CREATE A COLUMN WITH EXTRA TITLE INFO. THIS WILL HELP IN NLP.\n",
    "\n",
    "extracolumn = []\n",
    "for index, values in whisky_pd[['Whisky', 'Distillery', 'Age']].iterrows():\n",
    "    try:\n",
    "        extracolumn.append((values[0].replace(values[1], '')).replace(values[2], ''))\n",
    "    except:\n",
    "        try:\n",
    "            extracolumn.append((values[0].replace(values[1], '')))\n",
    "        except:\n",
    "            extracolumn.append(np.NaN)\n",
    "    \n",
    "\n",
    "whisky_pd['TitleExtra'] = extracolumn"
   ]
  },
  {
   "cell_type": "code",
   "execution_count": 23,
   "metadata": {},
   "outputs": [],
   "source": [
    "### DROP THE AGE COLUMN NOW THAT WE HAVE WHISKYAGE, AGETYPE, TITLEEXTRA\n",
    "\n",
    "whisky_pd.drop(\"Age\", axis = 1, inplace = True)"
   ]
  },
  {
   "cell_type": "code",
   "execution_count": 24,
   "metadata": {},
   "outputs": [],
   "source": [
    "## Removing some null & cleaning some more data! Removing null URLS & Distillerys\n",
    "\n",
    "whisky_pd.dropna(axis=0, how='all', subset=['WhiskyURL', 'Distillery'], inplace=True)"
   ]
  },
  {
   "cell_type": "code",
   "execution_count": 25,
   "metadata": {},
   "outputs": [],
   "source": [
    "## Fix Country Column & drop the Whisky that have missing country\n",
    "\n",
    "whisky_pd['Country'] = whisky_pd['Country'].fillna(method='ffill').fillna(method='bfill')\n",
    "\n",
    "whisky_pd.dropna(axis=0, how='all', subset=['Country'], inplace=True)"
   ]
  },
  {
   "cell_type": "code",
   "execution_count": 26,
   "metadata": {},
   "outputs": [],
   "source": [
    "## Fix the colouring information\n",
    "\n",
    "whisky_pd['Colouring'].fillna(\"No\", inplace = True)"
   ]
  },
  {
   "cell_type": "code",
   "execution_count": 27,
   "metadata": {},
   "outputs": [],
   "source": [
    "## Let us start tackling the columns & missing values here by Deductive imputation\n",
    "\n",
    "# Start by Character Column. If no character, replace NaN by 'Character'. We will fix this later in NLP in stop words\n",
    "\n",
    "whisky_pd['TasteInfo'] = np.where(whisky_pd['Character'].isnull(), 'No Info', 'Available')"
   ]
  },
  {
   "cell_type": "code",
   "execution_count": 28,
   "metadata": {},
   "outputs": [],
   "source": [
    "## Due to a scraper problem, some of the descriptions died. Dropping the remaining descriptions.\n",
    "\n",
    "whisky_pd.loc[279, 'Description'] = \"Glenfiddich asked its 20 ambassadors to choose their favourite cask from the distillery's warehouses. From the character of these casks, malt master Brian Kinsman created a new, experimental whisky – Project XX. A complex vatting of casks, from soft and fruity ex-bourbon to rich port pipes and sherry butts, Project XX is a refined and well-balanced whisky with lots of depth.\"\n",
    "whisky_pd.loc[493, 'Description'] = \"In November 2013, we chose Glenfarclas 15 Year Old as our Whisky of the Year. In honour of this, we spoke to Glenfarclas about creating a Whisky Exchange exclusive edition. We decided on a different approach to the classic 15 Year Old: our exclusive edition is bottled at cask strength – 58.6% abv (103° proof in old money).\"\n",
    "whisky_pd.loc[2421, 'Description'] = \"Introducing the pinnacle of the Chivas Regal range – The Icon. Veteran master blender Colin Scott has selected some of Chivas's rarest casks, including whiskies from long-closed distilleries, and created a blend that proudly demonstrates the skill of the whisky makers of Scotland. It is presented in a green crystal decanter, handmade and etched by the artisans at Dartington Crystal, dressed with detailed metalwork and sealed with a heavy stopper featuring Chivas famed luckenbooth marque.\"\n",
    "whisky_pd.loc[2435, 'Description'] = \"Copper Dog is a Scotch whisky that sums up all that is good about Speyside. A combination of eight single malts, Copper Dog is deliciously fruity with a hint of honey and spice.\"\n",
    "whisky_pd.loc[2983, 'Description'] = \"Consistently one of Indian distillery Amrut's most popular bottles, Fusion is a rich and warming single malt with delicious notes of fresh fruit and vanilla, followed by a smoky finish. Amrut Fusion is created from a mix of 75% unpeated Indian barley and 25% peated Scottish barley. These are separately distilled and aged for four years, then 'fused' together for a further three months. The result is an award-winning whisky that has introduced many people to the splendours of Indian whisky.\"\n",
    "whisky_pd.loc[2683, 'Description'] = \"Rich and full-bodied, Woodford Reserve is a delicious bourbon, triple distilled for extra smoothness, and loaded with notes of dried fruit and sweet spice. Ideal served as a digestif after dinner, on the rocks, or as the basis for a cocktail.\"\n",
    "\n",
    "whisky_pd.dropna(axis = 0, how = 'all', subset = ['Description'], inplace = True)"
   ]
  },
  {
   "cell_type": "code",
   "execution_count": 29,
   "metadata": {},
   "outputs": [],
   "source": [
    "## DROP THE FLAVOR COLUMN SINCE IT HAS ONLY 2 ENTRIRES\n",
    "\n",
    "whisky_pd.drop('Flavour', inplace = True, axis = 1)"
   ]
  },
  {
   "cell_type": "code",
   "execution_count": 30,
   "metadata": {},
   "outputs": [],
   "source": [
    "## Fixing the Regions & merging the regions from silent stills & TWE into one column. Then we drop the Region_y\n",
    "\n",
    "\n",
    "whisky_pd['Region_x']=np.where(whisky_pd['Region_x'].isnull(), whisky_pd['Region_y'], whisky_pd['Region_x'])\n",
    "\n",
    "whisky_pd.drop(\"Region_y\", inplace = True, axis = 1)\n",
    "\n",
    "whisky_pd = whisky_pd.rename(columns={'Region_x' : 'Region'})"
   ]
  },
  {
   "cell_type": "code",
   "execution_count": 31,
   "metadata": {},
   "outputs": [],
   "source": [
    "### Fix the whisky Status. We have added the list of all Silent Stills. The ones that are missing are active stills.\n",
    "\n",
    "whisky_pd['Status'].fillna('Active', inplace = True)"
   ]
  },
  {
   "cell_type": "code",
   "execution_count": 32,
   "metadata": {},
   "outputs": [],
   "source": [
    "## REMOVE THE ENTRIES THAT ARE A \"PACK\" OR CONTAIN \"GLASS SET\"\n",
    "\n",
    "whisky_pd = whisky_pd[whisky_pd.Whisky.str.contains(\"Glass\") == False]\n",
    "whisky_pd = whisky_pd[whisky_pd.Whisky.str.contains(\"Pack\") == False]\n",
    "whisky_pd = whisky_pd[whisky_pd.Whisky.str.contains(\"Miniature\") == False]\n",
    "whisky_pd = whisky_pd[whisky_pd.Whisky.str.contains(\"Set\") == False]\n",
    "whisky_pd = whisky_pd[whisky_pd.Whisky.str.contains(\"Tasting\") == False]"
   ]
  },
  {
   "cell_type": "code",
   "execution_count": 33,
   "metadata": {},
   "outputs": [],
   "source": [
    "## Fixing the typos\n",
    "\n",
    "whisky_pd['Bottler'].replace('Distilelry', 'Distillery', inplace = True, regex = True)\n",
    "whisky_pd['Bottler'].replace('Distilery', 'Distillery', inplace = True, regex = True)"
   ]
  },
  {
   "cell_type": "code",
   "execution_count": 34,
   "metadata": {
    "scrolled": false
   },
   "outputs": [],
   "source": [
    "## Fix the Bottler here. We are creating a list of independent bottlers and looping through them to fix the nan values\n",
    "## if the bottler exists, then fix it. else ignore.\n",
    "\n",
    "whisky_pd['Bottler'] = whisky_pd['Bottler'].str.rstrip()\n",
    "bottlers = list(whisky_pd['Bottler'].dropna().unique())\n",
    "\n",
    "\n",
    "bottler = []\n",
    "\n",
    "for index, values in whisky_pd[['Whisky', 'Bottler', 'Distillery']].iterrows():\n",
    "    if type(values[1])==float:\n",
    "        for i in bottlers:\n",
    "            if i in values[0]:\n",
    "                bottler.append(i)\n",
    "                break\n",
    "            else:\n",
    "                bottler.append('Distillery Bottling')\n",
    "                break\n",
    "    else:\n",
    "        bottler.append(values[1])\n",
    "        \n",
    "whisky_pd['NewBottler'] = bottler\n",
    "\n",
    "whisky_pd['Bottler']=np.where(whisky_pd['Bottler'].isnull(), whisky_pd['NewBottler'], whisky_pd['Bottler'])\n",
    "whisky_pd.drop('NewBottler', inplace = True, axis = 1)\n",
    "\n",
    "\n",
    "## Now merge and remove NaN values"
   ]
  },
  {
   "cell_type": "code",
   "execution_count": 35,
   "metadata": {},
   "outputs": [],
   "source": [
    "whisky_pd['BottlingType'] = np.where(whisky_pd['Bottler']=='Distillery Bottling', 'Distillery', 'Independent')"
   ]
  },
  {
   "cell_type": "code",
   "execution_count": 43,
   "metadata": {},
   "outputs": [],
   "source": [
    "## Pull out vintage from Description or WhiskyName\n",
    "\n",
    "vintagebot = []\n",
    "\n",
    "for index, values in whisky_pd[['Vintage', 'Whisky', 'Description']].iterrows():\n",
    "    \n",
    "    ## check if vintage is nan. if it is then -- go to description and pull largest number > 1900\n",
    "    if type(values[0]) == float:\n",
    "        sequence = [int(s) for s in (values[1] + values[2]).split() if s.isdigit()]\n",
    "        if len(sequence)>0:\n",
    "            if max(sequence)>1900:\n",
    "                vintagebot.append(max(sequence))\n",
    "            else:\n",
    "                vintagebot.append(np.NaN)\n",
    "        else:\n",
    "            vintagebot.append(np.NaN)\n",
    "    else:\n",
    "        vintagebot.append(int(values[0]))\n",
    "\n",
    "## Bringing it all together here.\n",
    "        \n",
    "        \n",
    "whisky_pd['WhiskyVintage'] = vintagebot\n",
    "\n",
    "\n",
    "## Create a WhiskyVintage column showing if Vintage is available or not\n",
    "\n",
    "whisky_pd['VintageInfo'] = np.where(whisky_pd['WhiskyVintage'].isnull(), 'No Vintage', 'Vintage')\n",
    "whisky_pd.drop('Vintage', axis = 1, inplace = True)"
   ]
  },
  {
   "cell_type": "code",
   "execution_count": 37,
   "metadata": {},
   "outputs": [],
   "source": [
    "whisky_pd['Editions'] = np.where(whisky_pd['No of Bottles'].isnull(), 'No Info', 'Limited')"
   ]
  },
  {
   "cell_type": "code",
   "execution_count": 38,
   "metadata": {},
   "outputs": [],
   "source": [
    "whisky_pd['CaskInfo'] = np.where(whisky_pd['Cask Number'].isnull(), 'No Info', 'SpecialCask')"
   ]
  },
  {
   "cell_type": "code",
   "execution_count": 49,
   "metadata": {},
   "outputs": [],
   "source": [
    "## Drop Type column containing only 76 entries. Not a good enough predictor\n",
    "\n",
    "whisky_pd.drop('Type', inplace = True, axis = 1)"
   ]
  },
  {
   "cell_type": "code",
   "execution_count": 54,
   "metadata": {},
   "outputs": [],
   "source": [
    "whisky_pd['#Reviews'].fillna(0, inplace = True)"
   ]
  },
  {
   "cell_type": "code",
   "execution_count": 55,
   "metadata": {
    "collapsed": true
   },
   "outputs": [
    {
     "name": "stdout",
     "output_type": "stream",
     "text": [
      "<class 'pandas.core.frame.DataFrame'>\n",
      "Int64Index: 2708 entries, 0 to 2832\n",
      "Data columns (total 36 columns):\n",
      "ABV               2708 non-null float64\n",
      "Price_Bottle$     2708 non-null float64\n",
      "Volume_ml         2708 non-null float64\n",
      "WhiskyType        2708 non-null object\n",
      "#Ratings          861 non-null object\n",
      "#Reviews          2708 non-null object\n",
      "Character         363 non-null object\n",
      "Description       2708 non-null object\n",
      "Distillery        2708 non-null object\n",
      "Whisky            2708 non-null object\n",
      "WhiskyURL         2708 non-null object\n",
      "Bottler           2708 non-null object\n",
      "Bottling Date     934 non-null object\n",
      "Cask Number       486 non-null object\n",
      "Cask Type         561 non-null object\n",
      "Chill Filtered    524 non-null object\n",
      "Colouring         2708 non-null object\n",
      "Country           2708 non-null object\n",
      "No of Bottles     653 non-null object\n",
      "Region            2109 non-null object\n",
      "Series            585 non-null object\n",
      "Location          1484 non-null object\n",
      "Owner             1279 non-null object\n",
      "Status            2708 non-null object\n",
      "Year closed       205 non-null float64\n",
      "Price_L           2708 non-null float64\n",
      "Class             2708 non-null float64\n",
      "WhiskyAge         1523 non-null float64\n",
      "AgeType           2708 non-null object\n",
      "TitleExtra        2708 non-null object\n",
      "TasteInfo         2708 non-null object\n",
      "BottlingType      2708 non-null object\n",
      "WhiskyVintage     1334 non-null float64\n",
      "VintageInfo       2708 non-null object\n",
      "Editions          2708 non-null object\n",
      "CaskInfo          2708 non-null object\n",
      "dtypes: float64(8), object(28)\n",
      "memory usage: 782.8+ KB\n"
     ]
    }
   ],
   "source": [
    "whisky_pd.info()"
   ]
  },
  {
   "cell_type": "code",
   "execution_count": 57,
   "metadata": {},
   "outputs": [],
   "source": [
    "whisky_pd.to_csv('Whisky_EDACleaned.csv', header = True)"
   ]
  },
  {
   "cell_type": "markdown",
   "metadata": {},
   "source": [
    "## Let us start with some EDA on whisky_details and fixing the data types"
   ]
  },
  {
   "cell_type": "code",
   "execution_count": 41,
   "metadata": {},
   "outputs": [],
   "source": [
    "final_review.reset_index(drop=True, inplace = True)"
   ]
  },
  {
   "cell_type": "code",
   "execution_count": 42,
   "metadata": {},
   "outputs": [
    {
     "data": {
      "text/html": [
       "<div>\n",
       "<style>\n",
       "    .dataframe thead tr:only-child th {\n",
       "        text-align: right;\n",
       "    }\n",
       "\n",
       "    .dataframe thead th {\n",
       "        text-align: left;\n",
       "    }\n",
       "\n",
       "    .dataframe tbody tr th {\n",
       "        vertical-align: top;\n",
       "    }\n",
       "</style>\n",
       "<table border=\"1\" class=\"dataframe\">\n",
       "  <thead>\n",
       "    <tr style=\"text-align: right;\">\n",
       "      <th></th>\n",
       "      <th>Link</th>\n",
       "      <th>Ratings</th>\n",
       "      <th>Reviews</th>\n",
       "    </tr>\n",
       "  </thead>\n",
       "  <tbody>\n",
       "    <tr>\n",
       "      <th>33</th>\n",
       "      <td>https://www.thewhiskyexchange.com/p/2562/glen-moray-classic</td>\n",
       "      <td>2.0</td>\n",
       "      <td>\\nA great tasting scotch, at a very affordable price, this has become one of my favorites!\\n</td>\n",
       "    </tr>\n",
       "    <tr>\n",
       "      <th>34</th>\n",
       "      <td>https://www.thewhiskyexchange.com/p/2562/glen-moray-classic</td>\n",
       "      <td>4.0</td>\n",
       "      <td>\\nBought this as an \" emergency liquor\" for the end of an evening. Just broke the seal and had a dram in isolation to test! Think Grouse or Google swish liquor, it's hard to get it in you, but I've tasted worse. For an end of the nighter emergency bottle you could do worse!reminds me of drinking my grand father whisky as a child, harsh!\\n</td>\n",
       "    </tr>\n",
       "    <tr>\n",
       "      <th>35</th>\n",
       "      <td>https://www.thewhiskyexchange.com/p/2562/glen-moray-classic</td>\n",
       "      <td>3.0</td>\n",
       "      <td>\\nBrilliant stuff. The bottle was lying unopened for years as I wasn't sure of its taste and smoothness. I was also not confident of gifting it as it was not a known brand to me. But, I must say that its one the best. Stands shoulder in taste, aroma, peatiness and overall with Lagavulin\\n</td>\n",
       "    </tr>\n",
       "    <tr>\n",
       "      <th>36</th>\n",
       "      <td>https://www.thewhiskyexchange.com/p/2562/glen-moray-classic</td>\n",
       "      <td>5.0</td>\n",
       "      <td>\\nExcellent value single malt that never disappoints me. Easier to drink than apple juice but still tastes fantastic, a fine flavour.\\n</td>\n",
       "    </tr>\n",
       "    <tr>\n",
       "      <th>37</th>\n",
       "      <td>https://www.thewhiskyexchange.com/p/2562/glen-moray-classic</td>\n",
       "      <td>5.0</td>\n",
       "      <td>\\nExceptional value and surprise after spending much more on some of the labels available on the shelves in Kigali. I'd be buying Glenfiddich 12 if I could. Not bold but not bad. Nothing in the taste that detracts.\\n</td>\n",
       "    </tr>\n",
       "    <tr>\n",
       "      <th>38</th>\n",
       "      <td>https://www.thewhiskyexchange.com/p/2562/glen-moray-classic</td>\n",
       "      <td>4.0</td>\n",
       "      <td>\\nExceptional value for this quality of a Speyside single malt scotch. Very refreshing fruity malty whisky..... I look forward to trying other varieties of Glen Moray.......\\n</td>\n",
       "    </tr>\n",
       "    <tr>\n",
       "      <th>39</th>\n",
       "      <td>https://www.thewhiskyexchange.com/p/2562/glen-moray-classic</td>\n",
       "      <td>5.0</td>\n",
       "      <td>\\nExecelent malt one of the best I have tasted l am 90 years of age and have been drinking for a long time always in a moderate way.\\n</td>\n",
       "    </tr>\n",
       "    <tr>\n",
       "      <th>40</th>\n",
       "      <td>https://www.thewhiskyexchange.com/p/2562/glen-moray-classic</td>\n",
       "      <td>2.0</td>\n",
       "      <td>\\nExpectional value for this easy drinking whisky.\\n</td>\n",
       "    </tr>\n",
       "    <tr>\n",
       "      <th>41</th>\n",
       "      <td>https://www.thewhiskyexchange.com/p/2562/glen-moray-classic</td>\n",
       "      <td>2.0</td>\n",
       "      <td>\\nFor the price this is very good. It gets better as the bottle goes on. Citrusy but not too sharp. Highly recommend.\\n</td>\n",
       "    </tr>\n",
       "    <tr>\n",
       "      <th>42</th>\n",
       "      <td>https://www.thewhiskyexchange.com/p/2562/glen-moray-classic</td>\n",
       "      <td>5.0</td>\n",
       "      <td>\\nI concur with the previous two star raters (Jay and John). This is an OK whiskey (Elgin Heritage) that I bought today because I am searching for a cheaper alternative that is comparable to the Glenlivet I enjoy. The search continues!\\n</td>\n",
       "    </tr>\n",
       "    <tr>\n",
       "      <th>43</th>\n",
       "      <td>https://www.thewhiskyexchange.com/p/2562/glen-moray-classic</td>\n",
       "      <td>4.5</td>\n",
       "      <td>\\nI gave this a 3 star for taste. It is smooth with some hints of bourbon from casking. I had to imagine some of the flavours mentioned in the review's, honey, citrus, vanilla, but I get a warm smooth malt from a price band usually associated with a harsh bitter dram. Due to the value for money and bonny presentation it goes up to a 4 for me. I'll display it and offer it to visitors, but they'll have to be quick as it's so easy to drink!\\n</td>\n",
       "    </tr>\n",
       "    <tr>\n",
       "      <th>44</th>\n",
       "      <td>https://www.thewhiskyexchange.com/p/2562/glen-moray-classic</td>\n",
       "      <td>2.0</td>\n",
       "      <td>\\nI just cracked a bottle I've had for a while, not a bad dram but i wouldn't give five star neither, it has a bit of cough medicine about it, a rather nice cough medicine i have to say but it's not a dram i'd usually go for.\\ni would however serve it up as a party drink\\n</td>\n",
       "    </tr>\n",
       "    <tr>\n",
       "      <th>45</th>\n",
       "      <td>https://www.thewhiskyexchange.com/p/2562/glen-moray-classic</td>\n",
       "      <td>5.0</td>\n",
       "      <td>\\nI wanted something light with citrus tones. I opted for this one and must say I made an excellent choice. A real bargain too.\\n</td>\n",
       "    </tr>\n",
       "    <tr>\n",
       "      <th>46</th>\n",
       "      <td>https://www.thewhiskyexchange.com/p/2562/glen-moray-classic</td>\n",
       "      <td>5.0</td>\n",
       "      <td>\\nIt's ok at best . Drinkable but definitely not 4 or 5 star quality , even for the price .\\n</td>\n",
       "    </tr>\n",
       "    <tr>\n",
       "      <th>47</th>\n",
       "      <td>https://www.thewhiskyexchange.com/p/2562/glen-moray-classic</td>\n",
       "      <td>5.0</td>\n",
       "      <td>\\nI’ll give this three stars. It is a good value and I’d describe it as gentle. It’s a good Scotch to serve to people curious about Scotch but who have not experienced it. If you are a Scotch drinker you’d probably be happier with something else.\\n</td>\n",
       "    </tr>\n",
       "    <tr>\n",
       "      <th>48</th>\n",
       "      <td>https://www.thewhiskyexchange.com/p/2562/glen-moray-classic</td>\n",
       "      <td>3.0</td>\n",
       "      <td>\\nNice whisky very easy to drink I have tried all sorts of Whisky but this one suits me for its taste and it’s very easy on the palate\\n</td>\n",
       "    </tr>\n",
       "    <tr>\n",
       "      <th>49</th>\n",
       "      <td>https://www.thewhiskyexchange.com/p/2562/glen-moray-classic</td>\n",
       "      <td>5.0</td>\n",
       "      <td>\\nThe first thing I find about Glen Moray Elgin Classic to swallow is the reviews on this site. Don't get me wrong, it's an okay whisky but never a four plus star dram. Maybe I got a poor bottle from a less refined batch but I would never class this whisky as sweet. It has a bitterness to it that often goes with a malt of this price and to be honest, I find it a bit acidic. A much smother whisky for the price in my opinion is Famous Grouse Mellow Gold. Or Chivas Regal 12 which is often discounted to around ?22.00. Still, it's what you like and to all those that gave this whisky four stars and above, good for you.\\n</td>\n",
       "    </tr>\n",
       "    <tr>\n",
       "      <th>50</th>\n",
       "      <td>https://www.thewhiskyexchange.com/p/2562/glen-moray-classic</td>\n",
       "      <td>5.0</td>\n",
       "      <td>\\nThis is an exceptionaal Scotch. The price is almost too low for such a wonderful vanilla, yet peaty scotch. It’s golden.\\n</td>\n",
       "    </tr>\n",
       "    <tr>\n",
       "      <th>51</th>\n",
       "      <td>https://www.thewhiskyexchange.com/p/2562/glen-moray-classic</td>\n",
       "      <td>5.0</td>\n",
       "      <td>\\nWas my first foray into single malt having been put off whisky for near 15 years (bad experience with a bottle of bells as a teenager) it’s sweet and smooth and has just enough smoky oak to not destroy its delicate taste, needless to say speyside whiskys are now amongst my favourite drams\\n</td>\n",
       "    </tr>\n",
       "  </tbody>\n",
       "</table>\n",
       "</div>"
      ],
      "text/plain": [
       "                                                           Link  Ratings  \\\n",
       "33  https://www.thewhiskyexchange.com/p/2562/glen-moray-classic  2.0       \n",
       "34  https://www.thewhiskyexchange.com/p/2562/glen-moray-classic  4.0       \n",
       "35  https://www.thewhiskyexchange.com/p/2562/glen-moray-classic  3.0       \n",
       "36  https://www.thewhiskyexchange.com/p/2562/glen-moray-classic  5.0       \n",
       "37  https://www.thewhiskyexchange.com/p/2562/glen-moray-classic  5.0       \n",
       "38  https://www.thewhiskyexchange.com/p/2562/glen-moray-classic  4.0       \n",
       "39  https://www.thewhiskyexchange.com/p/2562/glen-moray-classic  5.0       \n",
       "40  https://www.thewhiskyexchange.com/p/2562/glen-moray-classic  2.0       \n",
       "41  https://www.thewhiskyexchange.com/p/2562/glen-moray-classic  2.0       \n",
       "42  https://www.thewhiskyexchange.com/p/2562/glen-moray-classic  5.0       \n",
       "43  https://www.thewhiskyexchange.com/p/2562/glen-moray-classic  4.5       \n",
       "44  https://www.thewhiskyexchange.com/p/2562/glen-moray-classic  2.0       \n",
       "45  https://www.thewhiskyexchange.com/p/2562/glen-moray-classic  5.0       \n",
       "46  https://www.thewhiskyexchange.com/p/2562/glen-moray-classic  5.0       \n",
       "47  https://www.thewhiskyexchange.com/p/2562/glen-moray-classic  5.0       \n",
       "48  https://www.thewhiskyexchange.com/p/2562/glen-moray-classic  3.0       \n",
       "49  https://www.thewhiskyexchange.com/p/2562/glen-moray-classic  5.0       \n",
       "50  https://www.thewhiskyexchange.com/p/2562/glen-moray-classic  5.0       \n",
       "51  https://www.thewhiskyexchange.com/p/2562/glen-moray-classic  5.0       \n",
       "\n",
       "                                                                                                                                                                                                                                                                                                                                                                                                                                                                                                                                                                                                                                           Reviews  \n",
       "33  \\nA great tasting scotch, at a very affordable price, this has become one of my favorites!\\n                                                                                                                                                                                                                                                                                                                                                                                                                                                                                                                                                    \n",
       "34  \\nBought this as an \" emergency liquor\" for the end of an evening. Just broke the seal and had a dram in isolation to test! Think Grouse or Google swish liquor, it's hard to get it in you, but I've tasted worse. For an end of the nighter emergency bottle you could do worse!reminds me of drinking my grand father whisky as a child, harsh!\\n                                                                                                                                                                                                                                                                                            \n",
       "35  \\nBrilliant stuff. The bottle was lying unopened for years as I wasn't sure of its taste and smoothness. I was also not confident of gifting it as it was not a known brand to me. But, I must say that its one the best. Stands shoulder in taste, aroma, peatiness and overall with Lagavulin\\n                                                                                                                                                                                                                                                                                                                                               \n",
       "36  \\nExcellent value single malt that never disappoints me. Easier to drink than apple juice but still tastes fantastic, a fine flavour.\\n                                                                                                                                                                                                                                                                                                                                                                                                                                                                                                         \n",
       "37  \\nExceptional value and surprise after spending much more on some of the labels available on the shelves in Kigali. I'd be buying Glenfiddich 12 if I could. Not bold but not bad. Nothing in the taste that detracts.\\n                                                                                                                                                                                                                                                                                                                                                                                                                        \n",
       "38  \\nExceptional value for this quality of a Speyside single malt scotch. Very refreshing fruity malty whisky..... I look forward to trying other varieties of Glen Moray.......\\n                                                                                                                                                                                                                                                                                                                                                                                                                                                                 \n",
       "39  \\nExecelent malt one of the best I have tasted l am 90 years of age and have been drinking for a long time always in a moderate way.\\n                                                                                                                                                                                                                                                                                                                                                                                                                                                                                                          \n",
       "40  \\nExpectional value for this easy drinking whisky.\\n                                                                                                                                                                                                                                                                                                                                                                                                                                                                                                                                                                                            \n",
       "41  \\nFor the price this is very good. It gets better as the bottle goes on. Citrusy but not too sharp. Highly recommend.\\n                                                                                                                                                                                                                                                                                                                                                                                                                                                                                                                         \n",
       "42  \\nI concur with the previous two star raters (Jay and John). This is an OK whiskey (Elgin Heritage) that I bought today because I am searching for a cheaper alternative that is comparable to the Glenlivet I enjoy. The search continues!\\n                                                                                                                                                                                                                                                                                                                                                                                                   \n",
       "43  \\nI gave this a 3 star for taste. It is smooth with some hints of bourbon from casking. I had to imagine some of the flavours mentioned in the review's, honey, citrus, vanilla, but I get a warm smooth malt from a price band usually associated with a harsh bitter dram. Due to the value for money and bonny presentation it goes up to a 4 for me. I'll display it and offer it to visitors, but they'll have to be quick as it's so easy to drink!\\n                                                                                                                                                                                     \n",
       "44  \\nI just cracked a bottle I've had for a while, not a bad dram but i wouldn't give five star neither, it has a bit of cough medicine about it, a rather nice cough medicine i have to say but it's not a dram i'd usually go for.\\ni would however serve it up as a party drink\\n                                                                                                                                                                                                                                                                                                                                                               \n",
       "45  \\nI wanted something light with citrus tones. I opted for this one and must say I made an excellent choice. A real bargain too.\\n                                                                                                                                                                                                                                                                                                                                                                                                                                                                                                               \n",
       "46  \\nIt's ok at best . Drinkable but definitely not 4 or 5 star quality , even for the price .\\n                                                                                                                                                                                                                                                                                                                                                                                                                                                                                                                                                   \n",
       "47  \\nI’ll give this three stars. It is a good value and I’d describe it as gentle. It’s a good Scotch to serve to people curious about Scotch but who have not experienced it. If you are a Scotch drinker you’d probably be happier with something else.\\n                                                                                                                                                                                                                                                                                                                                                                                        \n",
       "48  \\nNice whisky very easy to drink I have tried all sorts of Whisky but this one suits me for its taste and it’s very easy on the palate\\n                                                                                                                                                                                                                                                                                                                                                                                                                                                                                                        \n",
       "49  \\nThe first thing I find about Glen Moray Elgin Classic to swallow is the reviews on this site. Don't get me wrong, it's an okay whisky but never a four plus star dram. Maybe I got a poor bottle from a less refined batch but I would never class this whisky as sweet. It has a bitterness to it that often goes with a malt of this price and to be honest, I find it a bit acidic. A much smother whisky for the price in my opinion is Famous Grouse Mellow Gold. Or Chivas Regal 12 which is often discounted to around ?22.00. Still, it's what you like and to all those that gave this whisky four stars and above, good for you.\\n  \n",
       "50  \\nThis is an exceptionaal Scotch. The price is almost too low for such a wonderful vanilla, yet peaty scotch. It’s golden.\\n                                                                                                                                                                                                                                                                                                                                                                                                                                                                                                                    \n",
       "51  \\nWas my first foray into single malt having been put off whisky for near 15 years (bad experience with a bottle of bells as a teenager) it’s sweet and smooth and has just enough smoky oak to not destroy its delicate taste, needless to say speyside whiskys are now amongst my favourite drams\\n                                                                                                                                                                                                                                                                                                                                           "
      ]
     },
     "execution_count": 42,
     "metadata": {},
     "output_type": "execute_result"
    }
   ],
   "source": [
    "final_review[final_review['Link']=='https://www.thewhiskyexchange.com/p/2562/glen-moray-classic']"
   ]
  }
 ],
 "metadata": {
  "kernelspec": {
   "display_name": "Python 3",
   "language": "python",
   "name": "python3"
  },
  "language_info": {
   "codemirror_mode": {
    "name": "ipython",
    "version": 3
   },
   "file_extension": ".py",
   "mimetype": "text/x-python",
   "name": "python",
   "nbconvert_exporter": "python",
   "pygments_lexer": "ipython3",
   "version": "3.6.2"
  }
 },
 "nbformat": 4,
 "nbformat_minor": 2
}
