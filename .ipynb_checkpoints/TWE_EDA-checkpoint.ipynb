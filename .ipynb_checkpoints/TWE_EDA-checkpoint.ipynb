{
 "cells": [
  {
   "cell_type": "code",
   "execution_count": null,
   "metadata": {},
   "outputs": [],
   "source": [
    "%%time\n",
    "# Importing all the necessary libraries for this project.\n",
    "\n",
    "import pandas as pd\n",
    "import numpy as np"
   ]
  },
  {
   "cell_type": "code",
   "execution_count": null,
   "metadata": {},
   "outputs": [],
   "source": [
    "# VIEW ALL COLUMNS & ALL TEXT IN EACH CELL\n",
    "\n",
    "pd.set_option('display.max_colwidth', -1)\n",
    "pd.set_option('display.max_columns', None)\n",
    "\n",
    "# Set ipython's max row display\n",
    "pd.set_option('display.max_row', 1000)\n",
    "\n",
    "# Set iPython's max column width to 50\n",
    "pd.set_option('display.max_columns', 50)\n"
   ]
  },
  {
   "cell_type": "markdown",
   "metadata": {},
   "source": [
    "### Import the files here. Here is a breakdown of what is inside each file:\n",
    "\n",
    "- Whisky_pd. Preliminary information of bottle & the price\n",
    "- whisky_details. Contains detailed information of the bottle/whisky\n",
    "- final_review. Contains information of the reviews of each whisky bottle\n",
    "- distillery_main. "
   ]
  },
  {
   "cell_type": "code",
   "execution_count": null,
   "metadata": {},
   "outputs": [],
   "source": [
    "## Import everything again.\n",
    "\n",
    "whisky_pd = pd.read_csv(\"Whisky_Main.csv\", index_col = 0)\n",
    "final_review = pd.read_csv('Final_Review.csv', index_col=0)\n",
    "whisky_details = pd.read_csv('Whisky Details.csv', index_col=0, dtype = 'object')\n",
    "distillery_main = pd.read_csv('Distillery_Info.csv', index_col=0)"
   ]
  },
  {
   "cell_type": "code",
   "execution_count": null,
   "metadata": {},
   "outputs": [],
   "source": [
    "## Merge details & whisky_pd on whisky_pd URL.\n",
    "\n",
    "whisky_pd = pd.merge(whisky_pd, whisky_details, how = 'left', left_on = 'Link', right_on = 'WhiskyURL')"
   ]
  },
  {
   "cell_type": "code",
   "execution_count": null,
   "metadata": {},
   "outputs": [],
   "source": [
    "## Merge Distillery with whisky_pd on DistilleryName\n",
    "\n",
    "whisky_pd = pd.merge(whisky_pd, distillery_main, how = 'left', on = 'Distillery')"
   ]
  },
  {
   "cell_type": "code",
   "execution_count": null,
   "metadata": {},
   "outputs": [],
   "source": [
    "whisky_pd.drop_duplicates(inplace = True)"
   ]
  },
  {
   "cell_type": "markdown",
   "metadata": {
    "collapsed": true
   },
   "source": [
    "## Let us start with some EDA on whisky_pd and fixing the data types"
   ]
  },
  {
   "cell_type": "code",
   "execution_count": null,
   "metadata": {},
   "outputs": [],
   "source": [
    "## fix the volume (remove cl), remove pound sign/convert to $ and fix ABV by removing %\n",
    "\n",
    "whisky_pd['Volume'] = whisky_pd['Volume'].apply(lambda x: float(x.replace('cl', ''))*10)\n",
    "whisky_pd['Price/Bottle'] = whisky_pd['Price/Bottle'].apply(lambda x: float(x.replace('£', '').replace(',', ''))*1.14)\n",
    "whisky_pd['ABV'] = whisky_pd['ABV'].apply(lambda x: float(x.replace('%', '')))"
   ]
  },
  {
   "cell_type": "code",
   "execution_count": null,
   "metadata": {},
   "outputs": [],
   "source": [
    "## Rename the columns\n",
    "\n",
    "whisky_pd = whisky_pd.rename(columns={'Volume' : 'Volume_ml', 'Price/Bottle' : 'Price_Bottle$', 'ABV': 'ABV'})"
   ]
  },
  {
   "cell_type": "code",
   "execution_count": null,
   "metadata": {},
   "outputs": [],
   "source": [
    "## Normalize the prices here to 1L\n",
    "\n",
    "whisky_pd['Price_L'] = round((whisky_pd['Price_Bottle$']*1000/whisky_pd['Volume_ml']),2)"
   ]
  },
  {
   "cell_type": "code",
   "execution_count": null,
   "metadata": {},
   "outputs": [],
   "source": [
    "## Fix the Distillery names. Removing preceeding & trailing white spaces\n",
    "\n",
    "whisky_pd['Distillery'] = whisky_pd['Distillery'].str.rstrip().str.lstrip()\n",
    "whisky_pd['Whisky'] = whisky_pd['Whisky'].str.rstrip().str.lstrip()"
   ]
  },
  {
   "cell_type": "code",
   "execution_count": null,
   "metadata": {},
   "outputs": [],
   "source": [
    "## Removing miniatures, kegs & only >40ABV whisky. we will focus on whisky that are >500ml and under 1L.\n",
    "\n",
    "whisky_pd = whisky_pd[(whisky_pd['Volume_ml'] > 500) & (whisky_pd['ABV'] >= 40.0) & (whisky_pd['Volume_ml']<1000)].reset_index(drop = True)"
   ]
  },
  {
   "cell_type": "code",
   "execution_count": null,
   "metadata": {},
   "outputs": [],
   "source": [
    "## Creating Categories of Whisky. Remember, these prices are per L & typically bottles are ~700ml\n",
    "\n",
    "def categorizer(price):\n",
    "    if price < 71.5:\n",
    "        return 0\n",
    "    elif (price >=71.5) & (price < 142.85):\n",
    "        return 1\n",
    "    elif (price >=142.85) & (price < 1428.5):\n",
    "        return 2\n",
    "    else:\n",
    "        return 3"
   ]
  },
  {
   "cell_type": "code",
   "execution_count": null,
   "metadata": {},
   "outputs": [],
   "source": [
    "def bincategorizer(price):\n",
    "    if price <= 715:\n",
    "        return 0\n",
    "    else:\n",
    "        return 1"
   ]
  },
  {
   "cell_type": "code",
   "execution_count": null,
   "metadata": {},
   "outputs": [],
   "source": [
    "whisky_pd.dropna(axis=0, how='all', subset=['Price_L'], inplace=True)"
   ]
  },
  {
   "cell_type": "markdown",
   "metadata": {},
   "source": [
    "### CREATING WHISKY CLASSES. THE PRICES ARE BASED OFF DISCUS (Distilled Spirit Council of USA). Their definition is not perfect and prices are based off supplier/bulk rates. So we are using the same approximation here.\n",
    "\n",
    "#### Value : Price < $50/bottle$ - 0\n",
    "#### Premium : Price < $100/bottle$ - 1\n",
    "#### High End : Price < $1000/bottle$ - 2\n",
    "#### Super Premium : Price > $1000/bottle$ - 3"
   ]
  },
  {
   "cell_type": "markdown",
   "metadata": {},
   "source": [
    "### CREATING AN ALTERNATE CLASS (AFFORDABLE VS EXPENSIVE):\n",
    "\n",
    "#### Affordable : Price < $200/bottle$ - 0\n",
    "#### HighEnd : Price > $200/bottle$ - 1"
   ]
  },
  {
   "cell_type": "code",
   "execution_count": null,
   "metadata": {},
   "outputs": [],
   "source": [
    "## Creating class for whisky. \n",
    "\n",
    "whisky_pd['Class'] = whisky_pd['Price_L'].apply(categorizer)"
   ]
  },
  {
   "cell_type": "code",
   "execution_count": null,
   "metadata": {},
   "outputs": [],
   "source": [
    "whisky_pd['BinClass'] = whisky_pd['Price_L'].apply(bincategorizer)"
   ]
  },
  {
   "cell_type": "code",
   "execution_count": null,
   "metadata": {},
   "outputs": [],
   "source": [
    "whisky_pd.BinClass.value_counts()"
   ]
  },
  {
   "cell_type": "code",
   "execution_count": null,
   "metadata": {},
   "outputs": [],
   "source": [
    "## Drop the 0 column. It is full of null values. Don't need it.\n",
    "\n",
    "whisky_pd.drop('0', inplace = True, axis = 1)"
   ]
  },
  {
   "cell_type": "code",
   "execution_count": null,
   "metadata": {},
   "outputs": [],
   "source": [
    "## Creating Age statements on the sample.\n",
    "\n",
    "new_column = []\n",
    "\n",
    "for index, values in whisky_pd[['Whisky', 'WhiskyURL', 'Age']].iterrows():\n",
    "    try: \n",
    "        new_column.append(float(values[2].split()[0]))\n",
    "    except:\n",
    "        try:\n",
    "            yearsum = min([float(s) for s in values[0].split() if s.isdigit()])\n",
    "            if (yearsum < 100 & yearsum>3):\n",
    "                new_column.append(yearsum)\n",
    "            else:\n",
    "                new_column.append(np.NaN)\n",
    "        except:\n",
    "            try:\n",
    "                yearsum = min([float(s) for s in values[0].split('-') if s.isdigit()])\n",
    "                if (yearsum < 100 & yearsum>3):\n",
    "                    new_column.append(yearsum)\n",
    "                else:\n",
    "                    new_column.append(np.NaN)\n",
    "            except:\n",
    "                new_column.append(np.NaN)\n",
    "\n",
    "whisky_pd['WhiskyAge'] = new_column"
   ]
  },
  {
   "cell_type": "code",
   "execution_count": null,
   "metadata": {},
   "outputs": [],
   "source": [
    "whisky_pd['AgeType'] = np.where(whisky_pd['WhiskyAge'].isnull(), 'NAS', 'YAS')"
   ]
  },
  {
   "cell_type": "code",
   "execution_count": null,
   "metadata": {},
   "outputs": [],
   "source": [
    "### Fix the Age/WhiskyAge column and drop one here\n",
    "\n",
    "whisky_pd['WhiskyAge'] = whisky_pd['WhiskyAge'].astype(float, inplace = True)"
   ]
  },
  {
   "cell_type": "code",
   "execution_count": null,
   "metadata": {},
   "outputs": [],
   "source": [
    "## DETAILS IS DICTIONARY THAT HAS BEEN OPENED INTO COLUMNS, LINK = PAGE LINK, BOTTLENAME SAME AS WHISKYNAME\n",
    "\n",
    "whisky_pd.drop(['Details', 'Link', 'BottleName'], axis = 1, inplace = True)"
   ]
  },
  {
   "cell_type": "code",
   "execution_count": null,
   "metadata": {},
   "outputs": [],
   "source": [
    "### DROP THE AGE COLUMN NOW THAT WE HAVE WHISKYAGE, AGETYPE, TITLEEXTRA\n",
    "\n",
    "whisky_pd.drop(\"Age\", axis = 1, inplace = True)"
   ]
  },
  {
   "cell_type": "code",
   "execution_count": null,
   "metadata": {},
   "outputs": [],
   "source": [
    "## Removing some null & cleaning some more data! Removing null URLS & Distillerys\n",
    "\n",
    "whisky_pd.dropna(axis=0, how='all', subset=['WhiskyURL', 'Distillery'], inplace=True)"
   ]
  },
  {
   "cell_type": "code",
   "execution_count": null,
   "metadata": {},
   "outputs": [],
   "source": [
    "## Fix Country Column & drop the Whisky that have missing country\n",
    "\n",
    "whisky_pd['Country'] = whisky_pd['Country'].fillna(method='ffill').fillna(method='bfill')\n",
    "\n",
    "whisky_pd.dropna(axis=0, how='all', subset=['Country'], inplace=True)"
   ]
  },
  {
   "cell_type": "code",
   "execution_count": null,
   "metadata": {},
   "outputs": [],
   "source": [
    "## Fix the colouring information\n",
    "\n",
    "whisky_pd['Colouring'].fillna(\"No\", inplace = True)"
   ]
  },
  {
   "cell_type": "code",
   "execution_count": null,
   "metadata": {},
   "outputs": [],
   "source": [
    "## Let us start tackling the columns & missing values here by Deductive imputation\n",
    "\n",
    "# Start by Character Column. If no character, replace NaN by 'Character'. We will fix this later in NLP in stop words\n",
    "\n",
    "whisky_pd['TasteInfo'] = np.where(whisky_pd['Character'].isnull(), 'No Info', 'Available')"
   ]
  },
  {
   "cell_type": "code",
   "execution_count": null,
   "metadata": {},
   "outputs": [],
   "source": [
    "## Due to a scraper problem, some of the descriptions died. Dropping the remaining descriptions.\n",
    "\n",
    "whisky_pd[whisky_pd['Description'].isnull()]\n",
    "\n",
    "whisky_pd.loc[275, 'Description'] = \"Glenfiddich asked its 20 ambassadors to choose their favourite cask from the distillery's warehouses. From the character of these casks, malt master Brian Kinsman created a new, experimental whisky – Project XX. A complex vatting of casks, from soft and fruity ex-bourbon to rich port pipes and sherry butts, Project XX is a refined and well-balanced whisky with lots of depth.\"\n",
    "whisky_pd.loc[488, 'Description'] = \"In November 2013, we chose Glenfarclas 15 Year Old as our Whisky of the Year. In honour of this, we spoke to Glenfarclas about creating a Whisky Exchange exclusive edition. We decided on a different approach to the classic 15 Year Old: our exclusive edition is bottled at cask strength – 58.6% abv (103° proof in old money).\"\n",
    "whisky_pd.loc[2218, 'Description'] = \"Introducing the pinnacle of the Chivas Regal range – The Icon. Veteran master blender Colin Scott has selected some of Chivas's rarest casks, including whiskies from long-closed distilleries, and created a blend that proudly demonstrates the skill of the whisky makers of Scotland. It is presented in a green crystal decanter, handmade and etched by the artisans at Dartington Crystal, dressed with detailed metalwork and sealed with a heavy stopper featuring Chivas famed luckenbooth marque.\"\n",
    "whisky_pd.loc[2764, 'Description'] = \"Consistently one of Indian distillery Amrut's most popular bottles, Fusion is a rich and warming single malt with delicious notes of fresh fruit and vanilla, followed by a smoky finish. Amrut Fusion is created from a mix of 75% unpeated Indian barley and 25% peated Scottish barley. These are separately distilled and aged for four years, then 'fused' together for a further three months. The result is an award-winning whisky that has introduced many people to the splendours of Indian whisky.\"\n",
    "whisky_pd.loc[2471, 'Description'] = \"Rich and full-bodied, Woodford Reserve is a delicious bourbon, triple distilled for extra smoothness, and loaded with notes of dried fruit and sweet spice. Ideal served as a digestif after dinner, on the rocks, or as the basis for a cocktail.\"\n",
    "\n",
    "whisky_pd.dropna(axis = 0, how = 'all', subset = ['Description'], inplace = True)"
   ]
  },
  {
   "cell_type": "code",
   "execution_count": null,
   "metadata": {},
   "outputs": [],
   "source": [
    "## DROP THE FLAVOR COLUMN SINCE IT HAS ONLY 2 ENTRIRES\n",
    "\n",
    "whisky_pd.drop('Flavour', inplace = True, axis = 1)"
   ]
  },
  {
   "cell_type": "code",
   "execution_count": null,
   "metadata": {},
   "outputs": [],
   "source": [
    "## Fixing the Regions & merging the regions from silent stills & TWE into one column. Then we drop the Region_y\n",
    "\n",
    "\n",
    "whisky_pd['Region_x']=np.where(whisky_pd['Region_x'].isnull(), whisky_pd['Region_y'], whisky_pd['Region_x'])\n",
    "\n",
    "whisky_pd.drop(\"Region_y\", inplace = True, axis = 1)\n",
    "\n",
    "whisky_pd = whisky_pd.rename(columns={'Region_x' : 'Region'})"
   ]
  },
  {
   "cell_type": "code",
   "execution_count": null,
   "metadata": {},
   "outputs": [],
   "source": [
    "### Fix the whisky Status. We have added the list of all Silent Stills. The ones that are missing are active stills.\n",
    "\n",
    "whisky_pd['Status'].fillna('Active', inplace = True)"
   ]
  },
  {
   "cell_type": "code",
   "execution_count": null,
   "metadata": {},
   "outputs": [],
   "source": [
    "## REMOVE THE ENTRIES THAT ARE A \"PACK\" OR CONTAIN \"GLASS SET\"\n",
    "\n",
    "whisky_pd = whisky_pd[whisky_pd.Whisky.str.contains(\"Glass\") == False]\n",
    "whisky_pd = whisky_pd[whisky_pd.Whisky.str.contains(\"Pack\") == False]\n",
    "whisky_pd = whisky_pd[whisky_pd.Whisky.str.contains(\"Miniature\") == False]\n",
    "whisky_pd = whisky_pd[whisky_pd.Whisky.str.contains(\"Set\") == False]\n",
    "whisky_pd = whisky_pd[whisky_pd.Whisky.str.contains(\"Tasting\") == False]"
   ]
  },
  {
   "cell_type": "code",
   "execution_count": null,
   "metadata": {},
   "outputs": [],
   "source": [
    "## Fixing the typos\n",
    "\n",
    "whisky_pd['Bottler'].replace('Distilelry', 'Distillery', inplace = True, regex = True)\n",
    "whisky_pd['Bottler'].replace('Distilery', 'Distillery', inplace = True, regex = True)"
   ]
  },
  {
   "cell_type": "code",
   "execution_count": null,
   "metadata": {
    "scrolled": false
   },
   "outputs": [],
   "source": [
    "## Fix the Bottler here. We are creating a list of independent bottlers and looping through them to fix the nan values\n",
    "## if the bottler exists, then fix it. else ignore.\n",
    "\n",
    "whisky_pd['Bottler'] = whisky_pd['Bottler'].str.rstrip()\n",
    "bottlers = list(whisky_pd['Bottler'].dropna().unique())\n",
    "\n",
    "\n",
    "bottler = []\n",
    "\n",
    "for index, values in whisky_pd[['Whisky', 'Bottler', 'Distillery']].iterrows():\n",
    "    if type(values[1])==float:\n",
    "        for i in bottlers:\n",
    "            if i in values[0]:\n",
    "                bottler.append(i)\n",
    "                break\n",
    "            else:\n",
    "                bottler.append('Distillery Bottling')\n",
    "                break\n",
    "    else:\n",
    "        bottler.append(values[1])\n",
    "        \n",
    "whisky_pd['NewBottler'] = bottler\n",
    "\n",
    "whisky_pd['Bottler']=np.where(whisky_pd['Bottler'].isnull(), whisky_pd['NewBottler'], whisky_pd['Bottler'])\n",
    "whisky_pd.drop('NewBottler', inplace = True, axis = 1)\n",
    "\n",
    "\n",
    "## Now merge and remove NaN values"
   ]
  },
  {
   "cell_type": "code",
   "execution_count": null,
   "metadata": {},
   "outputs": [],
   "source": [
    "whisky_pd['BottlingType'] = np.where(whisky_pd['Bottler']=='Distillery Bottling', 'Distillery', 'Independent')"
   ]
  },
  {
   "cell_type": "code",
   "execution_count": null,
   "metadata": {},
   "outputs": [],
   "source": [
    "## Pull out vintage from Description or WhiskyName\n",
    "\n",
    "vintagebot = []\n",
    "\n",
    "for index, values in whisky_pd[['Vintage', 'Whisky', 'Description']].iterrows():\n",
    "    \n",
    "    ## check if vintage is nan. if it is then -- go to description and pull largest number > 1900\n",
    "    if type(values[0]) == float:\n",
    "        sequence = [int(s) for s in (values[1] + values[2]).split() if s.isdigit()]\n",
    "        if len(sequence)>0:\n",
    "            if max(sequence)>1900:\n",
    "                vintagebot.append(max(sequence))\n",
    "            else:\n",
    "                vintagebot.append(np.NaN)\n",
    "        else:\n",
    "            vintagebot.append(np.NaN)\n",
    "    else:\n",
    "        vintagebot.append(int(values[0]))\n",
    "\n",
    "## Bringing it all together here.\n",
    "        \n",
    "        \n",
    "whisky_pd['WhiskyVintage'] = vintagebot\n",
    "\n",
    "\n",
    "## Create a WhiskyVintage column showing if Vintage is available or not\n",
    "\n",
    "whisky_pd['VintageInfo'] = np.where(whisky_pd['WhiskyVintage'].isnull(), 'No Vintage', 'Vintage')\n",
    "whisky_pd.drop('Vintage', axis = 1, inplace = True)"
   ]
  },
  {
   "cell_type": "code",
   "execution_count": null,
   "metadata": {},
   "outputs": [],
   "source": [
    "whisky_pd['LimitedEditions'] = np.where(whisky_pd['No of Bottles'].isnull(), 'No Info', 'Limited')"
   ]
  },
  {
   "cell_type": "code",
   "execution_count": null,
   "metadata": {},
   "outputs": [],
   "source": [
    "whisky_pd['CaskInfo'] = np.where(whisky_pd['Cask Number'].isnull(), 'No Info', 'SpecialCask')"
   ]
  },
  {
   "cell_type": "code",
   "execution_count": null,
   "metadata": {},
   "outputs": [],
   "source": [
    "## Drop Type column containing only 76 entries. Not a good enough predictor\n",
    "\n",
    "whisky_pd.drop('Type', inplace = True, axis = 1)"
   ]
  },
  {
   "cell_type": "code",
   "execution_count": null,
   "metadata": {},
   "outputs": [],
   "source": [
    "whisky_pd['#Reviews'].fillna(0, inplace = True)"
   ]
  },
  {
   "cell_type": "code",
   "execution_count": null,
   "metadata": {},
   "outputs": [],
   "source": [
    "whisky_pd['Region'] = whisky_pd['Region'].combine_first(whisky_pd['Country'])"
   ]
  },
  {
   "cell_type": "code",
   "execution_count": null,
   "metadata": {},
   "outputs": [],
   "source": [
    "whisky_pd.to_csv('Whisky_EDA.csv', header = True)"
   ]
  },
  {
   "cell_type": "markdown",
   "metadata": {},
   "source": [
    "## Let us start with some EDA on whisky_details and fixing the data types"
   ]
  },
  {
   "cell_type": "code",
   "execution_count": null,
   "metadata": {},
   "outputs": [],
   "source": [
    "final_review.reset_index(drop=True, inplace = True)"
   ]
  },
  {
   "cell_type": "code",
   "execution_count": null,
   "metadata": {},
   "outputs": [],
   "source": [
    "final_review[final_review['Link']=='https://www.thewhiskyexchange.com/p/2562/glen-moray-classic']"
   ]
  }
 ],
 "metadata": {
  "kernelspec": {
   "display_name": "Python 3",
   "language": "python",
   "name": "python3"
  },
  "language_info": {
   "codemirror_mode": {
    "name": "ipython",
    "version": 3
   },
   "file_extension": ".py",
   "mimetype": "text/x-python",
   "name": "python",
   "nbconvert_exporter": "python",
   "pygments_lexer": "ipython3",
   "version": "3.6.2"
  }
 },
 "nbformat": 4,
 "nbformat_minor": 2
}
