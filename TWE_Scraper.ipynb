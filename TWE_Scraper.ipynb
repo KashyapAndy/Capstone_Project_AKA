{
 "cells": [
  {
   "cell_type": "markdown",
   "metadata": {},
   "source": [
    "## Notebook to import the master whisky list"
   ]
  },
  {
   "cell_type": "code",
   "execution_count": null,
   "metadata": {},
   "outputs": [],
   "source": [
    "# Importing all the necessary libraries for this project.\n",
    "\n",
    "import pandas as pd\n",
    "import numpy as np\n",
    "from bs4 import BeautifulSoup\n",
    "import requests\n",
    "import json\n",
    "import time"
   ]
  },
  {
   "cell_type": "code",
   "execution_count": null,
   "metadata": {},
   "outputs": [],
   "source": [
    "# VIEW ALL COLUMNS & ALL TEXT IN EACH CELL\n",
    "\n",
    "pd.set_option('display.max_colwidth', -1)\n",
    "pd.set_option('display.max_columns', None)"
   ]
  },
  {
   "cell_type": "code",
   "execution_count": null,
   "metadata": {
    "scrolled": false
   },
   "outputs": [],
   "source": [
    "## Defining the function to request the website and return the soup\n",
    "\n",
    "def beautiful_soup(url):\n",
    "    request = requests.get(url)\n",
    "    soup = BeautifulSoup(request.text, \"lxml\")\n",
    "    return soup\n"
   ]
  },
  {
   "cell_type": "code",
   "execution_count": null,
   "metadata": {},
   "outputs": [],
   "source": [
    "## Scraping the list of bottles\n",
    "\n",
    "def scraper_info(soup, newurl):\n",
    "    for posts in soup.find_all('div' , {'class' : 'group group-list'}):\n",
    "        \n",
    "# Bottle Name        \n",
    "        try:\n",
    "            for bottle in posts.find_all('div', {'class' : 'name'}):\n",
    "                bottle_name.append(str(bottle).split(\"<span>\")[0].replace('<div class=\"name\">','').split('<')[0].lstrip())\n",
    "        except:\n",
    "                bottle_name.append('NoName')\n",
    "# Bottle Link        \n",
    "        try:       \n",
    "            for link in posts.find_all('a'):\n",
    "                bottle_link.append(\"https://www.thewhiskyexchange.com\" + link.get('href'))\n",
    "        except:\n",
    "            bottle_link.append(np.NaN)\n",
    "\n",
    "#Volume & ABV            \n",
    "        try:    \n",
    "            for ml in posts.find_all('span', {'class' : 'meta'}):\n",
    "                volume.append(ml.text.split(\"/\")[0].rstrip())\n",
    "                abv.append(ml.text.split(\"/\")[1].lstrip())\n",
    "                whisky_class(newurl)\n",
    "\n",
    "        except:\n",
    "                volume.append(np.NaN)\n",
    "                abv.append(np.NaN)\n",
    "\n",
    "#Price                \n",
    "        try:\n",
    "            for pricing in posts.find_all('span', {'class' : 'price'}):\n",
    "                prices.append(pricing.text)\n",
    "        except:\n",
    "                prices.append(np.NaN)"
   ]
  },
  {
   "cell_type": "code",
   "execution_count": null,
   "metadata": {},
   "outputs": [],
   "source": [
    "## Using the sitemap, listing all the major urls to scrape from\n",
    "\n",
    "list_url = ['https://www.thewhiskyexchange.com/c/40/single-malt-scotch-whisky','https://www.thewhiskyexchange.com/c/304/blended-scotch-whisky',\n",
    "           'https://www.thewhiskyexchange.com/c/309/blended-malt-scotch-whisky', 'https://www.thewhiskyexchange.com/c/310/grain-scotch-whisky',\n",
    "           'https://www.thewhiskyexchange.com/d/677/organic-whisky', 'https://www.thewhiskyexchange.com/c/32/irish-whiskey', \n",
    "            'https://www.thewhiskyexchange.com/c/33/american-whiskey', 'https://www.thewhiskyexchange.com/c/34/canadian-whisky',\n",
    "           'https://www.thewhiskyexchange.com/c/35/japanese-whisky', 'https://www.thewhiskyexchange.com/c/305/rest-of-the-world-whisky']"
   ]
  },
  {
   "cell_type": "code",
   "execution_count": null,
   "metadata": {},
   "outputs": [],
   "source": [
    "## LIST OF DIFFERENT TYPES OF WHISKY\n",
    "\n",
    "def whisky_class(url):\n",
    "    if 'single-malt-scotch-whisky' in url:\n",
    "        whiskytype.append(\"Single Malt Scotch\")\n",
    "    elif 'blended-scotch-whisky' in url:\n",
    "        whiskytype.append(\"Blended Scotch\")\n",
    "    elif 'blended-malt-scotch-whisky' in url:\n",
    "        whiskytype.append(\"Blended Malt Scotch\")\n",
    "    elif 'grain-scotch-whisky' in url:\n",
    "        whiskytype.append(\"Grain Scotch\")\n",
    "    elif 'organic-whisky' in url:\n",
    "        whiskytype.append(\"Organic Scotch\")\n",
    "    elif 'irish-whiskey' in url:\n",
    "        whiskytype.append(\"Irish Whisky\")\n",
    "    elif 'american-whiskey' in url:\n",
    "        whiskytype.append(\"American Whisky\")\n",
    "    elif 'canadian-whisky' in url:\n",
    "        whiskytype.append(\"Canadian Whisky\")\n",
    "    elif 'japanese-whisky' in url:\n",
    "        whiskytype.append(\"Japanese Whisky\")\n",
    "    elif 'rest-of-the-world-whisky' in url:\n",
    "        whiskytype.append(\"Rest of World Whisky\")\n",
    "    else:\n",
    "        whiskytype.append(np.NaN)\n"
   ]
  },
  {
   "cell_type": "code",
   "execution_count": null,
   "metadata": {},
   "outputs": [],
   "source": [
    "%%time\n",
    "\n",
    "# DEFINE THE EMPTY LISTS HERE\n",
    "bottle_name = []\n",
    "bottle_link = []\n",
    "volume = []\n",
    "abv = []\n",
    "distillery = []\n",
    "prices = []\n",
    "whiskytype = []\n",
    "\n",
    "\n",
    "# START A COUNTER & BLANK URL/\n",
    "\n",
    "for url in list_url:\n",
    "    count = 1\n",
    "    running = True\n",
    "    while running == True:\n",
    "\n",
    "    # SET A COUNTER = TO NOT OVERLOAD THE PAGES\n",
    "\n",
    "        if (count%50 == 0):\n",
    "            time.sleep(5)\n",
    "            print(str(count) + \" pages have been scraped\")\n",
    "\n",
    "    ## URL CHECK\n",
    "        newurl = url + '?filter=true&pg=' + str(count) + '#productlist-filter'\n",
    "        soup = beautiful_soup(newurl)\n",
    "        for pagecheck in soup.find_all('div', {'class' : 'showing'}):\n",
    "            last = pagecheck.text.split()[-1]\n",
    "            limit = pagecheck.text.split()[-3]\n",
    "            if last == limit:\n",
    "                running = False\n",
    "            scraper_info(soup, newurl)\n",
    "            count = count + 1        \n"
   ]
  },
  {
   "cell_type": "code",
   "execution_count": null,
   "metadata": {},
   "outputs": [],
   "source": [
    "## EXPORTING THE MAIN SITE TYPE HERE.\n",
    "\n",
    "whisky_pd = pd.DataFrame({\"BottleName\" : bottle_name, \"Link\" : bottle_link, \"Volume\": volume, \n",
    "                           \"ABV\" : abv, \"Price/Bottle\": prices, 'WhiskyType' : whiskytype})"
   ]
  },
  {
   "cell_type": "markdown",
   "metadata": {},
   "source": [
    "### EXPORT TO CSV"
   ]
  },
  {
   "cell_type": "code",
   "execution_count": null,
   "metadata": {},
   "outputs": [],
   "source": [
    "whisky_pd.to_csv(\"Whisky_Main.csv\", header=True)"
   ]
  },
  {
   "cell_type": "code",
   "execution_count": null,
   "metadata": {},
   "outputs": [],
   "source": [
    "## DEFINING THE INFO TABLE HERE\n",
    "\n",
    "def infocrumb(soup):\n",
    "\n",
    "## Get the description of the bottle\n",
    "    try:\n",
    "        description.append(soup.find('div', itemprop = 'description').text.lstrip().rstrip().replace('\\n', ''))\n",
    "    except:\n",
    "        description.append(np.NaN)\n",
    "    \n",
    "    \n",
    "## MAKE CASES FOR EACH TYPE OF WHISKEY    \n",
    "    if soup.find('dl', {'class' : 'meta'}):\n",
    "        for desc in soup.find_all('dl', {'class' : 'meta'}):\n",
    "            keys = []\n",
    "            values = []\n",
    "            for iterdt in desc.find_all('dt'):\n",
    "                keys.append(iterdt.text)\n",
    "\n",
    "            for iterdd in desc.find_all('dd'):\n",
    "                values.append(iterdd.text)\n",
    "\n",
    "            dictionary = dict(zip(keys, values))\n",
    "            details.append(dictionary)\n",
    "    else:\n",
    "        details.append(np.NaN)\n",
    "        \n",
    "    if soup.find('div', {'class' : 'name-container'}):  \n",
    "        for iternname in soup.find_all('div', {'class' : 'name-container'}):\n",
    "            whisky_name.append(iternname.h1.text.lstrip('\\n').rstrip('\\n').replace(\"\\n\\n\", \" \"))\n",
    "    else:\n",
    "        for desc in soup.find_all('div', {'class': 'breadcrumb'}):\n",
    "            whisky_name.append(desc.find_all(\"li\")[-1].find(\"span\").text)\n",
    "        \n",
    "    \n",
    "    if soup.find('div', {'class' : 'rating-overview'}):\n",
    "        for iterrat in soup.find_all('div', {'class' : 'rating-overview'}):\n",
    "            ratings.append(float(iterrat.text.splitlines()[4]))\n",
    "            reviews.append(int(iterrat.text.split('(')[1].split()[0]))\n",
    "    else:\n",
    "        ratings.append(np.NaN)\n",
    "        reviews.append(np.NaN)\n",
    "        \n",
    "    if soup.find_all('div', {'class' : 'flavour'}):\n",
    "        newflav = ''\n",
    "        for iterflav in soup.find_all('div', {'class': 'flavour'}):\n",
    "            newflav = newflav + iterflav.text.replace('\\n', ' ').lstrip().rstrip()\n",
    "        character.append(newflav)\n",
    "    else:\n",
    "        character.append(np.NaN)\n",
    "        \n",
    "    for desc in soup.find_all('div', {'class': 'breadcrumb'}):\n",
    "        distillery.append(desc.find_all(\"li\")[-2].find(\"span\").text)"
   ]
  },
  {
   "cell_type": "code",
   "execution_count": null,
   "metadata": {},
   "outputs": [],
   "source": [
    "### DEFINING THE CRUMBS HERE FOR REVIEW\n",
    "\n",
    "def reviewcrumb(soup, url):\n",
    "    reviewrating = {}\n",
    "    if soup.find_all('ul', {'class' : 'reviews-list'}):\n",
    "        keys = []\n",
    "        values = []\n",
    "        for rev in (soup.find_all('span', {'itemprop': 'ratingValue'})):\n",
    "            values.append(rev.text)\n",
    "        for rat in (soup.find_all('p', {'itemprop': 'reviewBody'})):\n",
    "            keys.append(rat.text)\n",
    "        if len(keys)!=len(values):\n",
    "            del values[0]\n",
    "        reviewrating[url]=dict(zip(keys, values))\n",
    "    else:\n",
    "        reviewrating[url]={}\n",
    "    \n",
    "    review_rating.append(reviewrating)"
   ]
  },
  {
   "cell_type": "code",
   "execution_count": null,
   "metadata": {},
   "outputs": [],
   "source": [
    "## Starting the scrape of each individual whisky\n",
    "\n",
    "description = []\n",
    "details = []\n",
    "whisky_name = []\n",
    "ratings = []\n",
    "reviews = []\n",
    "revnotes = []\n",
    "character = []\n",
    "distillery = []\n",
    "whiskyurl = []\n",
    "review_rating = []\n",
    "\n",
    "\n",
    "def whisky_scraper(url):\n",
    "    \n",
    "    ''' DOCSTRING: The main function for scraping individual whisky pages''' \n",
    "    \n",
    "    ## Creating an empty list and adding the urls of each individual whisky here. Similar to whisky_pd['Links']\n",
    "    \n",
    "    whiskyurl.append(url)\n",
    "    \n",
    "    ## Calling the beautiful soup function here\n",
    "    soup = beautiful_soup(url)\n",
    "\n",
    "    ## Calling the page scraper Function\n",
    "    infocrumb(soup)\n",
    "    \n",
    "    \n",
    "    ## Creating a dictionary of each soup here.\n",
    "    reviewcrumb(soup, url)\n"
   ]
  },
  {
   "cell_type": "markdown",
   "metadata": {},
   "source": [
    "### RUN THE SCRAPER HERE! TAKES ~19 mins to scrape entire website"
   ]
  },
  {
   "cell_type": "code",
   "execution_count": null,
   "metadata": {},
   "outputs": [],
   "source": [
    "%%time\n",
    "\n",
    "whisky_pd['Link'].apply(whisky_scraper)"
   ]
  },
  {
   "cell_type": "code",
   "execution_count": null,
   "metadata": {},
   "outputs": [],
   "source": [
    "whisky_details = pd.DataFrame({\"Description\" : description, \"Details\" : details, \"Whisky\": whisky_name, \n",
    "                           \"#Ratings\" : ratings, \"#Reviews\": reviews, \"Character\": character, \"Distillery\": distillery, \n",
    "                              \"WhiskyURL\" : whiskyurl})\n"
   ]
  },
  {
   "cell_type": "code",
   "execution_count": null,
   "metadata": {},
   "outputs": [],
   "source": [
    "whisky_details = whisky_details.join(whisky_details['Details'].apply(pd.Series))"
   ]
  },
  {
   "cell_type": "markdown",
   "metadata": {},
   "source": [
    "### EXPORT WHISKY DETAILS HERE"
   ]
  },
  {
   "cell_type": "code",
   "execution_count": null,
   "metadata": {},
   "outputs": [],
   "source": [
    "whisky_details.to_csv('Whisky Details.csv', header=True)"
   ]
  },
  {
   "cell_type": "markdown",
   "metadata": {},
   "source": [
    "### CREATING A FUNCTION TO EXPLORE THE UNWRAPPING OF THE DICTIONARY. "
   ]
  },
  {
   "cell_type": "markdown",
   "metadata": {},
   "source": [
    "-- Up until now the whisky reviews have been stored individually. The format of the dictionary of whisky reviews is as follows: ${url : {rating:review}}$, where url is a unique entry and rating/review changes from item to item."
   ]
  },
  {
   "cell_type": "code",
   "execution_count": null,
   "metadata": {},
   "outputs": [],
   "source": [
    "final_review = pd.DataFrame(index=None, columns=['Link', 'Ratings', 'Reviews'])\n",
    "\n",
    "for url in review_rating:\n",
    "    pd_reviews = pd.DataFrame.from_dict(url,orient = 'columns').reset_index()\n",
    "    pd_reviews['Link']= pd_reviews.columns[1]\n",
    "    link = pd_reviews.columns[1]\n",
    "    pd_reviews = pd_reviews.rename(columns={link: 'Ratings', 'index': 'Reviews'})\n",
    "    pd_reviews = pd_reviews[['Link', 'Ratings', 'Reviews']]\n",
    "    final_review = pd.concat([final_review, pd_reviews])"
   ]
  },
  {
   "cell_type": "code",
   "execution_count": null,
   "metadata": {},
   "outputs": [],
   "source": [
    "final_review.to_csv('Final_Review.csv', header=True)"
   ]
  },
  {
   "cell_type": "code",
   "execution_count": null,
   "metadata": {},
   "outputs": [],
   "source": [
    "## IMPORTING DISTILLERY INFORMATION & SAVING IT AS A CSV"
   ]
  },
  {
   "cell_type": "code",
   "execution_count": null,
   "metadata": {},
   "outputs": [],
   "source": [
    "## Importing the other files. From Wikipedia - https://en.wikipedia.org/wiki/List_of_whisky_distilleries_in_Scotland\n",
    "\n",
    "distillery_main = pd.read_csv(\"ScotlandDistilleryList.csv\", )\n",
    "distillery_main['Status']='Active'\n",
    "\n",
    "distillery_silent = pd.read_csv(\"SilentDistillery.csv\")\n",
    "distillery_silent['Status']='Silent'\n",
    "\n",
    "distillery_grain = pd.read_csv(\"GrainDistilleryList.csv\")\n",
    "distillery_grain['Status']='Active'\n",
    "\n",
    "distillery_silentg = pd.read_csv(\"SilentGrainList.csv\")\n",
    "distillery_silentg['Status']='Silent'"
   ]
  },
  {
   "cell_type": "code",
   "execution_count": null,
   "metadata": {},
   "outputs": [],
   "source": [
    "distillery_silent"
   ]
  },
  {
   "cell_type": "code",
   "execution_count": null,
   "metadata": {},
   "outputs": [],
   "source": [
    "## Combining all Distillery information into one\n",
    "\n",
    "frames = [distillery_main, distillery_silent, distillery_silent, distillery_grain]\n",
    "distillery_main = pd.concat(frames).reset_index(drop = True)\n",
    "\n",
    "distillery_main['Distillery'] = distillery_main['Distillery'].apply(lambda x: (x.replace(' distillery', '')))\n",
    "\n",
    "distillery_main"
   ]
  },
  {
   "cell_type": "code",
   "execution_count": null,
   "metadata": {},
   "outputs": [],
   "source": [
    "distillery_main.to_csv('Distillery_Info.csv', header=True)"
   ]
  }
 ],
 "metadata": {
  "kernelspec": {
   "display_name": "Python 3",
   "language": "python",
   "name": "python3"
  },
  "language_info": {
   "codemirror_mode": {
    "name": "ipython",
    "version": 3
   },
   "file_extension": ".py",
   "mimetype": "text/x-python",
   "name": "python",
   "nbconvert_exporter": "python",
   "pygments_lexer": "ipython3",
   "version": "3.6.2"
  }
 },
 "nbformat": 4,
 "nbformat_minor": 2
}
